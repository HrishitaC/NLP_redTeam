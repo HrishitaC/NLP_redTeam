{
 "cells": [
  {
   "cell_type": "code",
   "execution_count": 2,
   "metadata": {},
   "outputs": [],
   "source": [
    "import pandas as pd"
   ]
  },
  {
   "cell_type": "code",
   "execution_count": 6,
   "metadata": {},
   "outputs": [],
   "source": [
    "test_data = pd.read_json(\"data/test.json\")\n",
    "test_data = test_data[[\"Problem\",\t\"Rationale\", \"options\", \"correct\",\"category\"]]\n",
    "test_data_geom = test_data.loc[test_data[\"category\"] == \"geometry\"].sample(n=30, replace=False)\n",
    "test_data_prob = test_data.loc[test_data[\"category\"] == \"probability\"].sample(n=30, replace=False)\n",
    "test_data_gain = test_data.loc[test_data[\"category\"] == \"gain\"].sample(n=30, replace=False)\n",
    "test_data_physics = test_data.loc[test_data[\"category\"] == \"physics\"].sample(n=30, replace=False)\n",
    "test_data_other = test_data.loc[test_data[\"category\"] == \"other\"].sample(n=30, replace=False)\n",
    "test_data_gen = test_data.loc[test_data[\"category\"] == \"general\"].sample(n=30, replace=False)\n",
    "\n",
    "test_data_sample = pd.concat([test_data_geom, test_data_prob, test_data_gain, test_data_physics, test_data_other, test_data_gen])\n",
    "test_data_sample.to_csv(\"data/test_data_sample.csv\", index=False)"
   ]
  },
  {
   "cell_type": "code",
   "execution_count": null,
   "metadata": {},
   "outputs": [],
   "source": [
    "test_data_sample.head(10)"
   ]
  }
 ],
 "metadata": {
  "kernelspec": {
   "display_name": "base",
   "language": "python",
   "name": "python3"
  },
  "language_info": {
   "codemirror_mode": {
    "name": "ipython",
    "version": 3
   },
   "file_extension": ".py",
   "mimetype": "text/x-python",
   "name": "python",
   "nbconvert_exporter": "python",
   "pygments_lexer": "ipython3",
   "version": "3.9.12"
  },
  "orig_nbformat": 4
 },
 "nbformat": 4,
 "nbformat_minor": 2
}
